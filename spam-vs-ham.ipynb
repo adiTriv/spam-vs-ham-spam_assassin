{
 "cells": [
  {
   "cell_type": "code",
   "execution_count": 1,
   "id": "b51b2bad",
   "metadata": {},
   "outputs": [],
   "source": [
    "## TODO:\n",
    "\n",
    "# clean notebook\n",
    "\n",
    "#-----------------------------------------------------------------------------------------------------\n",
    "\n",
    "# - check why even non-binary files are getting encoded to binary \n",
    "\n",
    "## - DEPLOY MODEL (in near future)"
   ]
  },
  {
   "cell_type": "markdown",
   "id": "4fc11ba3",
   "metadata": {},
   "source": [
    "<h1 style='text-align:center; border-bottom: 1px solid #333; padding-bottom: 20px; margin-bottom: 20px'>Spam Vs Ham - Apache SpamAssasin</h1>"
   ]
  },
  {
   "cell_type": "markdown",
   "id": "181b4ec6",
   "metadata": {},
   "source": [
    "In this notebook we are creating a ML model that can differentiate between spam or non-spam (ham) emails.\n",
    "\n",
    "For the training of the model we are using ***Apache SpamAssassin*** dataset"
   ]
  },
  {
   "cell_type": "code",
   "execution_count": 2,
   "id": "fa378d66",
   "metadata": {},
   "outputs": [],
   "source": [
    "import pandas as pd\n",
    "import matplotlib.pyplot as plt\n",
    "import numpy as np\n",
    "import seaborn as sns"
   ]
  },
  {
   "cell_type": "code",
   "execution_count": 3,
   "id": "d8d3078a",
   "metadata": {},
   "outputs": [],
   "source": [
    "from scipy.stats import pointbiserialr"
   ]
  },
  {
   "cell_type": "code",
   "execution_count": 4,
   "id": "9ac28ce3",
   "metadata": {},
   "outputs": [],
   "source": [
    "from sklearn.model_selection import cross_val_score, cross_val_predict, GridSearchCV, RandomizedSearchCV, train_test_split\n",
    "from sklearn.preprocessing import StandardScaler\n",
    "from sklearn.pipeline import make_pipeline\n",
    "from sklearn.compose import ColumnTransformer, make_column_selector\n",
    "from sklearn.linear_model import SGDClassifier, LogisticRegression\n",
    "from sklearn.ensemble import RandomForestClassifier\n",
    "\n",
    "from sklearn.metrics import precision_score, recall_score, f1_score, precision_recall_curve, roc_curve, roc_auc_score"
   ]
  },
  {
   "cell_type": "code",
   "execution_count": 5,
   "id": "b26a53f3",
   "metadata": {},
   "outputs": [],
   "source": [
    "from sklearn.feature_extraction.text import TfidfVectorizer, ENGLISH_STOP_WORDS"
   ]
  },
  {
   "cell_type": "code",
   "execution_count": 6,
   "id": "291376d1",
   "metadata": {},
   "outputs": [],
   "source": [
    "import os\n",
    "import sys\n",
    "import random"
   ]
  },
  {
   "cell_type": "code",
   "execution_count": 7,
   "id": "21646a01",
   "metadata": {},
   "outputs": [],
   "source": [
    "home_directory = os.path.abspath('../../')\n",
    "model_utils_file = os.path.abspath(os.path.join(home_directory, './Utils/model_utils'))\n",
    "\n",
    "sys.path.append(home_directory)"
   ]
  },
  {
   "cell_type": "code",
   "execution_count": 8,
   "id": "30d91a08",
   "metadata": {},
   "outputs": [],
   "source": [
    "%run D:\\\\Pydata-Book\\\\Utils\\\\model_utils.ipynb"
   ]
  },
  {
   "cell_type": "code",
   "execution_count": 9,
   "id": "7710e6c7",
   "metadata": {},
   "outputs": [],
   "source": [
    "from Utils.data_utils import download_multiple_files_from_url\n",
    "\n",
    "from package.data_preparation_pipeline import SpamAssassinDataPreparation"
   ]
  },
  {
   "cell_type": "markdown",
   "id": "07ee346f",
   "metadata": {},
   "source": [
    "### Download and Unzip Data"
   ]
  },
  {
   "cell_type": "code",
   "execution_count": 10,
   "id": "fc3e5fe9",
   "metadata": {},
   "outputs": [],
   "source": [
    "urls = [\n",
    "    'https://spamassassin.apache.org/old/publiccorpus/20030228_hard_ham.tar.bz2',\n",
    "    'https://spamassassin.apache.org/old/publiccorpus/20030228_easy_ham_2.tar.bz2',\n",
    "    'https://spamassassin.apache.org/old/publiccorpus/20030228_spam.tar.bz2',\n",
    "    'https://spamassassin.apache.org/old/publiccorpus/20030228_easy_ham.tar.bz2',\n",
    "    'https://spamassassin.apache.org/old/publiccorpus/20030228_spam_2.tar.bz2',\n",
    "    'https://spamassassin.apache.org/old/publiccorpus/20050311_spam_2.tar.bz2',\n",
    "]"
   ]
  },
  {
   "cell_type": "code",
   "execution_count": 11,
   "id": "c44bb3a2",
   "metadata": {},
   "outputs": [],
   "source": [
    "# data_csv_file = os.path.abspath('./dataset/data.csv')"
   ]
  },
  {
   "cell_type": "markdown",
   "id": "45f0e614",
   "metadata": {},
   "source": [
    "### Prepare Data"
   ]
  },
  {
   "cell_type": "code",
   "execution_count": 12,
   "id": "e2e7e829",
   "metadata": {},
   "outputs": [],
   "source": [
    "## initialize the preparation class\n",
    "data_prep_pipeline = SpamAssassinDataPreparation(urls, override_prev_data=False)"
   ]
  },
  {
   "cell_type": "code",
   "execution_count": 13,
   "id": "85c23ae8",
   "metadata": {},
   "outputs": [
    {
     "name": "stdout",
     "output_type": "stream",
     "text": [
      "LOG: Data is already present\n",
      "-----All files downloaded-----\n",
      "\n",
      "LOG: Email data is already clean.\n",
      "----All files are cleaned-----\n",
      "\n",
      "LOG: keywords already prepared\n",
      "----Spam keywords prepared----\n",
      "\n",
      "LOG: Override not permitted, data csv already exists\n",
      "------data CSV prepared-------\n",
      "\n"
     ]
    }
   ],
   "source": [
    "## initialize the \n",
    "data_csv_file = data_prep_pipeline.run_data_processing_pipeline()"
   ]
  },
  {
   "cell_type": "code",
   "execution_count": 14,
   "id": "308f7b65",
   "metadata": {},
   "outputs": [],
   "source": [
    "## read csv\n",
    "df = pd.read_csv(data_csv_file)"
   ]
  },
  {
   "cell_type": "code",
   "execution_count": 15,
   "id": "6acb09da",
   "metadata": {},
   "outputs": [
    {
     "data": {
      "text/html": [
       "<div>\n",
       "<style scoped>\n",
       "    .dataframe tbody tr th:only-of-type {\n",
       "        vertical-align: middle;\n",
       "    }\n",
       "\n",
       "    .dataframe tbody tr th {\n",
       "        vertical-align: top;\n",
       "    }\n",
       "\n",
       "    .dataframe thead th {\n",
       "        text-align: right;\n",
       "    }\n",
       "</style>\n",
       "<table border=\"1\" class=\"dataframe\">\n",
       "  <thead>\n",
       "    <tr style=\"text-align: right;\">\n",
       "      <th></th>\n",
       "      <th>free</th>\n",
       "      <th>email</th>\n",
       "      <th>click</th>\n",
       "      <th>list</th>\n",
       "      <th>mail</th>\n",
       "      <th>information</th>\n",
       "      <th>receive</th>\n",
       "      <th>time</th>\n",
       "      <th>removed</th>\n",
       "      <th>message</th>\n",
       "      <th>...</th>\n",
       "      <th>astonishment</th>\n",
       "      <th>percentages</th>\n",
       "      <th>exceedingly</th>\n",
       "      <th>accurately</th>\n",
       "      <th>lately</th>\n",
       "      <th>grumbled</th>\n",
       "      <th>conservative</th>\n",
       "      <th>everyday</th>\n",
       "      <th>worthwhile</th>\n",
       "      <th>Label</th>\n",
       "    </tr>\n",
       "  </thead>\n",
       "  <tbody>\n",
       "    <tr>\n",
       "      <th>0</th>\n",
       "      <td>0</td>\n",
       "      <td>0</td>\n",
       "      <td>0</td>\n",
       "      <td>5</td>\n",
       "      <td>1</td>\n",
       "      <td>0</td>\n",
       "      <td>0</td>\n",
       "      <td>1</td>\n",
       "      <td>0</td>\n",
       "      <td>1</td>\n",
       "      <td>...</td>\n",
       "      <td>0</td>\n",
       "      <td>0</td>\n",
       "      <td>0</td>\n",
       "      <td>0</td>\n",
       "      <td>0</td>\n",
       "      <td>0</td>\n",
       "      <td>0</td>\n",
       "      <td>0</td>\n",
       "      <td>0</td>\n",
       "      <td>False</td>\n",
       "    </tr>\n",
       "    <tr>\n",
       "      <th>1</th>\n",
       "      <td>1</td>\n",
       "      <td>1</td>\n",
       "      <td>0</td>\n",
       "      <td>0</td>\n",
       "      <td>1</td>\n",
       "      <td>0</td>\n",
       "      <td>0</td>\n",
       "      <td>0</td>\n",
       "      <td>0</td>\n",
       "      <td>0</td>\n",
       "      <td>...</td>\n",
       "      <td>0</td>\n",
       "      <td>0</td>\n",
       "      <td>0</td>\n",
       "      <td>0</td>\n",
       "      <td>0</td>\n",
       "      <td>0</td>\n",
       "      <td>0</td>\n",
       "      <td>0</td>\n",
       "      <td>0</td>\n",
       "      <td>False</td>\n",
       "    </tr>\n",
       "    <tr>\n",
       "      <th>2</th>\n",
       "      <td>1</td>\n",
       "      <td>1</td>\n",
       "      <td>0</td>\n",
       "      <td>0</td>\n",
       "      <td>1</td>\n",
       "      <td>0</td>\n",
       "      <td>0</td>\n",
       "      <td>0</td>\n",
       "      <td>0</td>\n",
       "      <td>0</td>\n",
       "      <td>...</td>\n",
       "      <td>0</td>\n",
       "      <td>0</td>\n",
       "      <td>0</td>\n",
       "      <td>0</td>\n",
       "      <td>0</td>\n",
       "      <td>0</td>\n",
       "      <td>0</td>\n",
       "      <td>0</td>\n",
       "      <td>0</td>\n",
       "      <td>False</td>\n",
       "    </tr>\n",
       "    <tr>\n",
       "      <th>3</th>\n",
       "      <td>0</td>\n",
       "      <td>0</td>\n",
       "      <td>0</td>\n",
       "      <td>1</td>\n",
       "      <td>2</td>\n",
       "      <td>0</td>\n",
       "      <td>0</td>\n",
       "      <td>1</td>\n",
       "      <td>0</td>\n",
       "      <td>2</td>\n",
       "      <td>...</td>\n",
       "      <td>0</td>\n",
       "      <td>0</td>\n",
       "      <td>0</td>\n",
       "      <td>0</td>\n",
       "      <td>0</td>\n",
       "      <td>0</td>\n",
       "      <td>0</td>\n",
       "      <td>0</td>\n",
       "      <td>0</td>\n",
       "      <td>False</td>\n",
       "    </tr>\n",
       "    <tr>\n",
       "      <th>4</th>\n",
       "      <td>1</td>\n",
       "      <td>1</td>\n",
       "      <td>0</td>\n",
       "      <td>0</td>\n",
       "      <td>1</td>\n",
       "      <td>0</td>\n",
       "      <td>0</td>\n",
       "      <td>1</td>\n",
       "      <td>0</td>\n",
       "      <td>0</td>\n",
       "      <td>...</td>\n",
       "      <td>0</td>\n",
       "      <td>0</td>\n",
       "      <td>0</td>\n",
       "      <td>0</td>\n",
       "      <td>0</td>\n",
       "      <td>0</td>\n",
       "      <td>0</td>\n",
       "      <td>0</td>\n",
       "      <td>0</td>\n",
       "      <td>False</td>\n",
       "    </tr>\n",
       "  </tbody>\n",
       "</table>\n",
       "<p>5 rows × 2245 columns</p>\n",
       "</div>"
      ],
      "text/plain": [
       "   free  email  click  list  mail  information  receive  time  removed  \\\n",
       "0     0      0      0     5     1            0        0     1        0   \n",
       "1     1      1      0     0     1            0        0     0        0   \n",
       "2     1      1      0     0     1            0        0     0        0   \n",
       "3     0      0      0     1     2            0        0     1        0   \n",
       "4     1      1      0     0     1            0        0     1        0   \n",
       "\n",
       "   message  ...  astonishment  percentages  exceedingly  accurately  lately  \\\n",
       "0        1  ...             0            0            0           0       0   \n",
       "1        0  ...             0            0            0           0       0   \n",
       "2        0  ...             0            0            0           0       0   \n",
       "3        2  ...             0            0            0           0       0   \n",
       "4        0  ...             0            0            0           0       0   \n",
       "\n",
       "   grumbled  conservative  everyday  worthwhile  Label  \n",
       "0         0             0         0           0  False  \n",
       "1         0             0         0           0  False  \n",
       "2         0             0         0           0  False  \n",
       "3         0             0         0           0  False  \n",
       "4         0             0         0           0  False  \n",
       "\n",
       "[5 rows x 2245 columns]"
      ]
     },
     "execution_count": 15,
     "metadata": {},
     "output_type": "execute_result"
    }
   ],
   "source": [
    "df.head()"
   ]
  },
  {
   "cell_type": "markdown",
   "id": "69830cc9",
   "metadata": {},
   "source": [
    "We have successfully imported the data, but the data is in order of ham and spam folders that are downloaded, as the csv we have prepared is created by walking the dataset directory.\n",
    "\n",
    "In order to use this data for training, we need to shuffle this data well. "
   ]
  },
  {
   "cell_type": "code",
   "execution_count": 16,
   "id": "76e7f0c0",
   "metadata": {},
   "outputs": [],
   "source": [
    "df = df.sample(frac=1, random_state=42).reset_index(drop=True)"
   ]
  },
  {
   "cell_type": "code",
   "execution_count": 17,
   "id": "bbec03ce",
   "metadata": {},
   "outputs": [
    {
     "data": {
      "text/html": [
       "<div>\n",
       "<style scoped>\n",
       "    .dataframe tbody tr th:only-of-type {\n",
       "        vertical-align: middle;\n",
       "    }\n",
       "\n",
       "    .dataframe tbody tr th {\n",
       "        vertical-align: top;\n",
       "    }\n",
       "\n",
       "    .dataframe thead th {\n",
       "        text-align: right;\n",
       "    }\n",
       "</style>\n",
       "<table border=\"1\" class=\"dataframe\">\n",
       "  <thead>\n",
       "    <tr style=\"text-align: right;\">\n",
       "      <th></th>\n",
       "      <th>free</th>\n",
       "      <th>email</th>\n",
       "      <th>click</th>\n",
       "      <th>list</th>\n",
       "      <th>mail</th>\n",
       "      <th>information</th>\n",
       "      <th>receive</th>\n",
       "      <th>time</th>\n",
       "      <th>removed</th>\n",
       "      <th>message</th>\n",
       "      <th>...</th>\n",
       "      <th>astonishment</th>\n",
       "      <th>percentages</th>\n",
       "      <th>exceedingly</th>\n",
       "      <th>accurately</th>\n",
       "      <th>lately</th>\n",
       "      <th>grumbled</th>\n",
       "      <th>conservative</th>\n",
       "      <th>everyday</th>\n",
       "      <th>worthwhile</th>\n",
       "      <th>Label</th>\n",
       "    </tr>\n",
       "  </thead>\n",
       "  <tbody>\n",
       "    <tr>\n",
       "      <th>0</th>\n",
       "      <td>0</td>\n",
       "      <td>1</td>\n",
       "      <td>0</td>\n",
       "      <td>2</td>\n",
       "      <td>3</td>\n",
       "      <td>0</td>\n",
       "      <td>0</td>\n",
       "      <td>4</td>\n",
       "      <td>0</td>\n",
       "      <td>0</td>\n",
       "      <td>...</td>\n",
       "      <td>0</td>\n",
       "      <td>0</td>\n",
       "      <td>0</td>\n",
       "      <td>0</td>\n",
       "      <td>0</td>\n",
       "      <td>0</td>\n",
       "      <td>0</td>\n",
       "      <td>0</td>\n",
       "      <td>0</td>\n",
       "      <td>False</td>\n",
       "    </tr>\n",
       "    <tr>\n",
       "      <th>1</th>\n",
       "      <td>0</td>\n",
       "      <td>0</td>\n",
       "      <td>0</td>\n",
       "      <td>0</td>\n",
       "      <td>1</td>\n",
       "      <td>0</td>\n",
       "      <td>1</td>\n",
       "      <td>0</td>\n",
       "      <td>0</td>\n",
       "      <td>3</td>\n",
       "      <td>...</td>\n",
       "      <td>0</td>\n",
       "      <td>0</td>\n",
       "      <td>0</td>\n",
       "      <td>0</td>\n",
       "      <td>0</td>\n",
       "      <td>0</td>\n",
       "      <td>0</td>\n",
       "      <td>0</td>\n",
       "      <td>0</td>\n",
       "      <td>False</td>\n",
       "    </tr>\n",
       "    <tr>\n",
       "      <th>2</th>\n",
       "      <td>1</td>\n",
       "      <td>1</td>\n",
       "      <td>2</td>\n",
       "      <td>1</td>\n",
       "      <td>1</td>\n",
       "      <td>0</td>\n",
       "      <td>0</td>\n",
       "      <td>0</td>\n",
       "      <td>1</td>\n",
       "      <td>0</td>\n",
       "      <td>...</td>\n",
       "      <td>0</td>\n",
       "      <td>0</td>\n",
       "      <td>0</td>\n",
       "      <td>0</td>\n",
       "      <td>0</td>\n",
       "      <td>0</td>\n",
       "      <td>0</td>\n",
       "      <td>0</td>\n",
       "      <td>0</td>\n",
       "      <td>True</td>\n",
       "    </tr>\n",
       "    <tr>\n",
       "      <th>3</th>\n",
       "      <td>0</td>\n",
       "      <td>0</td>\n",
       "      <td>0</td>\n",
       "      <td>0</td>\n",
       "      <td>0</td>\n",
       "      <td>0</td>\n",
       "      <td>0</td>\n",
       "      <td>0</td>\n",
       "      <td>0</td>\n",
       "      <td>0</td>\n",
       "      <td>...</td>\n",
       "      <td>0</td>\n",
       "      <td>0</td>\n",
       "      <td>0</td>\n",
       "      <td>0</td>\n",
       "      <td>0</td>\n",
       "      <td>0</td>\n",
       "      <td>0</td>\n",
       "      <td>0</td>\n",
       "      <td>0</td>\n",
       "      <td>False</td>\n",
       "    </tr>\n",
       "    <tr>\n",
       "      <th>4</th>\n",
       "      <td>8</td>\n",
       "      <td>0</td>\n",
       "      <td>1</td>\n",
       "      <td>1</td>\n",
       "      <td>8</td>\n",
       "      <td>0</td>\n",
       "      <td>0</td>\n",
       "      <td>5</td>\n",
       "      <td>0</td>\n",
       "      <td>0</td>\n",
       "      <td>...</td>\n",
       "      <td>0</td>\n",
       "      <td>0</td>\n",
       "      <td>0</td>\n",
       "      <td>0</td>\n",
       "      <td>0</td>\n",
       "      <td>0</td>\n",
       "      <td>0</td>\n",
       "      <td>0</td>\n",
       "      <td>0</td>\n",
       "      <td>False</td>\n",
       "    </tr>\n",
       "  </tbody>\n",
       "</table>\n",
       "<p>5 rows × 2245 columns</p>\n",
       "</div>"
      ],
      "text/plain": [
       "   free  email  click  list  mail  information  receive  time  removed  \\\n",
       "0     0      1      0     2     3            0        0     4        0   \n",
       "1     0      0      0     0     1            0        1     0        0   \n",
       "2     1      1      2     1     1            0        0     0        1   \n",
       "3     0      0      0     0     0            0        0     0        0   \n",
       "4     8      0      1     1     8            0        0     5        0   \n",
       "\n",
       "   message  ...  astonishment  percentages  exceedingly  accurately  lately  \\\n",
       "0        0  ...             0            0            0           0       0   \n",
       "1        3  ...             0            0            0           0       0   \n",
       "2        0  ...             0            0            0           0       0   \n",
       "3        0  ...             0            0            0           0       0   \n",
       "4        0  ...             0            0            0           0       0   \n",
       "\n",
       "   grumbled  conservative  everyday  worthwhile  Label  \n",
       "0         0             0         0           0  False  \n",
       "1         0             0         0           0  False  \n",
       "2         0             0         0           0   True  \n",
       "3         0             0         0           0  False  \n",
       "4         0             0         0           0  False  \n",
       "\n",
       "[5 rows x 2245 columns]"
      ]
     },
     "execution_count": 17,
     "metadata": {},
     "output_type": "execute_result"
    }
   ],
   "source": [
    "df.head()"
   ]
  },
  {
   "cell_type": "code",
   "execution_count": 18,
   "id": "fb21a1dd",
   "metadata": {},
   "outputs": [],
   "source": [
    "## seperate features with labels from the data\n",
    "\n",
    "X = df.loc[:, df.columns != 'Label']\n",
    "y = df['Label']"
   ]
  },
  {
   "cell_type": "markdown",
   "id": "6d6c97b7",
   "metadata": {},
   "source": [
    "### Split data in training and test sets\n",
    "\n",
    "we are splitting data in stratified order of our target variable, such that the ration of spam and ham instances gets maitained in training and testing"
   ]
  },
  {
   "cell_type": "code",
   "execution_count": 19,
   "id": "cfd26b5e",
   "metadata": {},
   "outputs": [],
   "source": [
    "X_train, X_test, y_train, y_test = train_test_split(X, y, test_size=0.33, random_state=42, stratify=y)"
   ]
  },
  {
   "cell_type": "code",
   "execution_count": 20,
   "id": "c32fab4b",
   "metadata": {},
   "outputs": [
    {
     "name": "stdout",
     "output_type": "stream",
     "text": [
      "X_train shape: (4048, 2244)\n",
      "X_test shape: (1995, 2244)\n"
     ]
    }
   ],
   "source": [
    "print(f'X_train shape: {X_train.shape}')\n",
    "print(f'X_test shape: {X_test.shape}')"
   ]
  },
  {
   "cell_type": "markdown",
   "id": "30185dd7",
   "metadata": {},
   "source": [
    "### Explore data"
   ]
  },
  {
   "cell_type": "code",
   "execution_count": 42,
   "id": "2a39f476",
   "metadata": {},
   "outputs": [],
   "source": [
    "eda_set = X_train.loc[:]\n",
    "eda_set_y = y_train.loc[:]"
   ]
  },
  {
   "cell_type": "code",
   "execution_count": 43,
   "id": "1a1d6b49",
   "metadata": {},
   "outputs": [
    {
     "data": {
      "text/plain": [
       "False    2782\n",
       "True     1266\n",
       "Name: Label, dtype: int64"
      ]
     },
     "execution_count": 43,
     "metadata": {},
     "output_type": "execute_result"
    }
   ],
   "source": [
    "label_value_count = eda_set_y.value_counts()\n",
    "\n",
    "label_value_count"
   ]
  },
  {
   "cell_type": "code",
   "execution_count": 44,
   "id": "d7d03df3",
   "metadata": {},
   "outputs": [
    {
     "data": {
      "text/plain": [
       "False    68.725296\n",
       "True     31.274704\n",
       "Name: Label, dtype: float64"
      ]
     },
     "execution_count": 44,
     "metadata": {},
     "output_type": "execute_result"
    }
   ],
   "source": [
    "(label_value_count / eda_set_y.shape) * 100"
   ]
  },
  {
   "cell_type": "code",
   "execution_count": 45,
   "id": "dee2bfcf",
   "metadata": {},
   "outputs": [
    {
     "data": {
      "image/png": "[encoded data removed]",
      "text/plain": [
       "<Figure size 640x480 with 1 Axes>"
      ]
     },
     "metadata": {},
     "output_type": "display_data"
    }
   ],
   "source": [
    "label_value_count.plot.bar();"
   ]
  },
  {
   "cell_type": "markdown",
   "id": "1e8b388c",
   "metadata": {},
   "source": [
    "#### Observation\n",
    "\n",
    "- label has around 69:31 perc of ham:spam ratio"
   ]
  },
  {
   "cell_type": "code",
   "execution_count": 47,
   "id": "0cfa8a6c",
   "metadata": {
    "scrolled": true
   },
   "outputs": [
    {
     "data": {
      "text/plain": [
       "remove        0.427755\n",
       "removed       0.381101\n",
       "moved         0.361360\n",
       "click         0.322956\n",
       "wish          0.297800\n",
       "mailings      0.282587\n",
       "receive       0.266132\n",
       "guarantee     0.252296\n",
       "reply         0.250398\n",
       "guaranteed    0.240825\n",
       "dtype: float64"
      ]
     },
     "execution_count": 47,
     "metadata": {},
     "output_type": "execute_result"
    }
   ],
   "source": [
    "# manually calculating the point-biserial correlation coefficient with the target variable for each numeric variable\n",
    "target_variable = eda_set_y \n",
    "target_correlation = {}\n",
    "for column in eda_set.columns:\n",
    "    correlation, _ = pointbiserialr(target_variable, eda_set[column])\n",
    "    target_correlation[column] = correlation\n",
    "\n",
    "target_correlation_series = pd.Series(target_correlation)\n",
    "\n",
    "target_correlation_series.sort_values(ascending=False).head(10)"
   ]
  },
  {
   "cell_type": "code",
   "execution_count": 47,
   "id": "f9953f13",
   "metadata": {},
   "outputs": [],
   "source": [
    "## -- commented because the number of features (keywords) is too high ---\n",
    "\n",
    "# plt.figure(figsize=(8, 10))\n",
    "# target_correlation_series.plot(kind='barh', color='skyblue')\n",
    "# plt.title('Correlation with Target Variable')\n",
    "# plt.ylabel('Numeric Variable')\n",
    "# plt.xlabel('Correlation Coefficient')\n",
    "# plt.xticks(rotation=45)\n",
    "# plt.show()"
   ]
  },
  {
   "cell_type": "code",
   "execution_count": 48,
   "id": "4234b3cd",
   "metadata": {},
   "outputs": [
    {
     "data": {
      "text/plain": [
       "count    2244.000000\n",
       "mean        0.040167\n",
       "std         0.056218\n",
       "min        -0.184955\n",
       "25%         0.003720\n",
       "50%         0.037461\n",
       "75%         0.071087\n",
       "max         0.427755\n",
       "dtype: float64"
      ]
     },
     "execution_count": 48,
     "metadata": {},
     "output_type": "execute_result"
    }
   ],
   "source": [
    "target_correlation_series.describe()"
   ]
  },
  {
   "cell_type": "markdown",
   "id": "2d8d9903",
   "metadata": {},
   "source": [
    "#### Observations\n",
    "\n",
    "- there's not very clear correlation of the target with the keywords, the max value of corr coefficient is `0.42` with `remove` keyword\n",
    "- most of the corr are in range of `0.003-0.07`\n",
    "- some keywords i.e., `agent`, `click` and `perfect` have -ve corr with the target, among which `-0.106` is the highest -ve for the keyword `agent`"
   ]
  },
  {
   "cell_type": "markdown",
   "id": "e9467ef4",
   "metadata": {},
   "source": [
    "### Pipeline"
   ]
  },
  {
   "cell_type": "code",
   "execution_count": 21,
   "id": "16583bf5",
   "metadata": {},
   "outputs": [],
   "source": [
    "num_pipeline = make_pipeline(StandardScaler())"
   ]
  },
  {
   "cell_type": "code",
   "execution_count": 22,
   "id": "897569a9",
   "metadata": {},
   "outputs": [],
   "source": [
    "preprocessing = ColumnTransformer([\n",
    "    ('num', num_pipeline, make_column_selector(dtype_include=np.number)),\n",
    "])"
   ]
  },
  {
   "cell_type": "code",
   "execution_count": 23,
   "id": "9e07813d",
   "metadata": {},
   "outputs": [],
   "source": [
    "train_prepared = preprocessing.fit_transform(X_train.copy())"
   ]
  },
  {
   "cell_type": "code",
   "execution_count": 24,
   "id": "67b6fbe4",
   "metadata": {},
   "outputs": [
    {
     "data": {
      "text/plain": [
       "array([[-0.26454801, -0.25623658, -0.31714406, ..., -0.08534321,\n",
       "        -0.08371821, -0.06141428],\n",
       "       [ 0.11832305,  0.378747  , -0.31714406, ..., -0.08534321,\n",
       "        -0.08371821, -0.06141428],\n",
       "       [-0.26454801,  1.01373057, -0.31714406, ..., -0.08534321,\n",
       "        -0.08371821, -0.06141428],\n",
       "       ...,\n",
       "       [-0.26454801,  0.378747  , -0.31714406, ..., -0.08534321,\n",
       "        -0.08371821, -0.06141428],\n",
       "       [-0.26454801, -0.25623658, -0.31714406, ..., -0.08534321,\n",
       "        -0.08371821, -0.06141428],\n",
       "       [ 0.11832305,  0.06125521, -0.31714406, ...,  5.97552185,\n",
       "        -0.08371821, -0.06141428]])"
      ]
     },
     "execution_count": 24,
     "metadata": {},
     "output_type": "execute_result"
    }
   ],
   "source": [
    "train_prepared"
   ]
  },
  {
   "cell_type": "markdown",
   "id": "3d9867a4",
   "metadata": {},
   "source": [
    "### Model Selection"
   ]
  },
  {
   "cell_type": "code",
   "execution_count": 26,
   "id": "1802baa0",
   "metadata": {},
   "outputs": [],
   "source": [
    "sgd_clf = make_pipeline(preprocessing, SGDClassifier(random_state=42))"
   ]
  },
  {
   "cell_type": "markdown",
   "id": "00023738",
   "metadata": {},
   "source": [
    "#### Performance Measure"
   ]
  },
  {
   "cell_type": "code",
   "execution_count": 27,
   "id": "e63d19b5",
   "metadata": {},
   "outputs": [
    {
     "data": {
      "image/png": "[encoded data removed]",
      "text/plain": [
       "<Figure size 640x480 with 1 Axes>"
      ]
     },
     "metadata": {},
     "output_type": "display_data"
    },
    {
     "data": {
      "image/png": "[encoded data removed]",
      "text/plain": [
       "<Figure size 640x480 with 1 Axes>"
      ]
     },
     "metadata": {},
     "output_type": "display_data"
    }
   ],
   "source": [
    "scores = evaluate_model_for_precision(sgd_clf, X_train, y_train, precision=0.93, show_roc_curve=True)"
   ]
  },
  {
   "cell_type": "code",
   "execution_count": 28,
   "id": "51640bd3",
   "metadata": {},
   "outputs": [
    {
     "data": {
      "text/plain": [
       "{'precision_score': 0.9302514193025142,\n",
       " 'recall_score': 0.906003159557662,\n",
       " 'f1_score': 0.9179671868747499,\n",
       " 'auc_score': 0.9595502513903984}"
      ]
     },
     "execution_count": 28,
     "metadata": {},
     "output_type": "execute_result"
    }
   ],
   "source": [
    "scores"
   ]
  },
  {
   "cell_type": "markdown",
   "id": "8221b158",
   "metadata": {},
   "source": [
    "#### Scores for SGDClassifier\n",
    "\n",
    "- precision: 0.9302514193025142\n",
    "- recall: 0.906003159557662\n",
    "- f1_score: 0.9179671868747499\n",
    "\n",
    "-------\n",
    "\n",
    "- auc_score: 0.9595502513903984"
   ]
  },
  {
   "cell_type": "markdown",
   "id": "c4866d34",
   "metadata": {},
   "source": [
    "#### RandomForestClassifier"
   ]
  },
  {
   "cell_type": "code",
   "execution_count": 27,
   "id": "014c5693",
   "metadata": {},
   "outputs": [],
   "source": [
    "forest_clf = make_pipeline(preprocessing, RandomForestClassifier(random_state=42))"
   ]
  },
  {
   "cell_type": "code",
   "execution_count": 28,
   "id": "0b4a5ef2",
   "metadata": {},
   "outputs": [
    {
     "data": {
      "text/html": [
       "<style>#sk-container-id-1 {color: black;background-color: white;}#sk-container-id-1 pre{padding: 0;}#sk-container-id-1 div.sk-toggleable {background-color: white;}#sk-container-id-1 label.sk-toggleable__label {cursor: pointer;display: block;width: 100%;margin-bottom: 0;padding: 0.3em;box-sizing: border-box;text-align: center;}#sk-container-id-1 label.sk-toggleable__label-arrow:before {content: \"▸\";float: left;margin-right: 0.25em;color: #696969;}#sk-container-id-1 label.sk-toggleable__label-arrow:hover:before {color: black;}#sk-container-id-1 div.sk-estimator:hover label.sk-toggleable__label-arrow:before {color: black;}#sk-container-id-1 div.sk-toggleable__content {max-height: 0;max-width: 0;overflow: hidden;text-align: left;background-color: #f0f8ff;}#sk-container-id-1 div.sk-toggleable__content pre {margin: 0.2em;color: black;border-radius: 0.25em;background-color: #f0f8ff;}#sk-container-id-1 input.sk-toggleable__control:checked~div.sk-toggleable__content {max-height: 200px;max-width: 100%;overflow: auto;}#sk-container-id-1 input.sk-toggleable__control:checked~label.sk-toggleable__label-arrow:before {content: \"▾\";}#sk-container-id-1 div.sk-estimator input.sk-toggleable__control:checked~label.sk-toggleable__label {background-color: #d4ebff;}#sk-container-id-1 div.sk-label input.sk-toggleable__control:checked~label.sk-toggleable__label {background-color: #d4ebff;}#sk-container-id-1 input.sk-hidden--visually {border: 0;clip: rect(1px 1px 1px 1px);clip: rect(1px, 1px, 1px, 1px);height: 1px;margin: -1px;overflow: hidden;padding: 0;position: absolute;width: 1px;}#sk-container-id-1 div.sk-estimator {font-family: monospace;background-color: #f0f8ff;border: 1px dotted black;border-radius: 0.25em;box-sizing: border-box;margin-bottom: 0.5em;}#sk-container-id-1 div.sk-estimator:hover {background-color: #d4ebff;}#sk-container-id-1 div.sk-parallel-item::after {content: \"\";width: 100%;border-bottom: 1px solid gray;flex-grow: 1;}#sk-container-id-1 div.sk-label:hover label.sk-toggleable__label {background-color: #d4ebff;}#sk-container-id-1 div.sk-serial::before {content: \"\";position: absolute;border-left: 1px solid gray;box-sizing: border-box;top: 0;bottom: 0;left: 50%;z-index: 0;}#sk-container-id-1 div.sk-serial {display: flex;flex-direction: column;align-items: center;background-color: white;padding-right: 0.2em;padding-left: 0.2em;position: relative;}#sk-container-id-1 div.sk-item {position: relative;z-index: 1;}#sk-container-id-1 div.sk-parallel {display: flex;align-items: stretch;justify-content: center;background-color: white;position: relative;}#sk-container-id-1 div.sk-item::before, #sk-container-id-1 div.sk-parallel-item::before {content: \"\";position: absolute;border-left: 1px solid gray;box-sizing: border-box;top: 0;bottom: 0;left: 50%;z-index: -1;}#sk-container-id-1 div.sk-parallel-item {display: flex;flex-direction: column;z-index: 1;position: relative;background-color: white;}#sk-container-id-1 div.sk-parallel-item:first-child::after {align-self: flex-end;width: 50%;}#sk-container-id-1 div.sk-parallel-item:last-child::after {align-self: flex-start;width: 50%;}#sk-container-id-1 div.sk-parallel-item:only-child::after {width: 0;}#sk-container-id-1 div.sk-dashed-wrapped {border: 1px dashed gray;margin: 0 0.4em 0.5em 0.4em;box-sizing: border-box;padding-bottom: 0.4em;background-color: white;}#sk-container-id-1 div.sk-label label {font-family: monospace;font-weight: bold;display: inline-block;line-height: 1.2em;}#sk-container-id-1 div.sk-label-container {text-align: center;}#sk-container-id-1 div.sk-container {/* jupyter's `normalize.less` sets `[hidden] { display: none; }` but bootstrap.min.css set `[hidden] { display: none !important; }` so we also need the `!important` here to be able to override the default hidden behavior on the sphinx rendered scikit-learn.org. See: https://github.com/scikit-learn/scikit-learn/issues/21755 */display: inline-block !important;position: relative;}#sk-container-id-1 div.sk-text-repr-fallback {display: none;}</style><div id=\"sk-container-id-1\" class=\"sk-top-container\"><div class=\"sk-text-repr-fallback\"><pre>Pipeline(steps=[(&#x27;columntransformer&#x27;,\n",
       "                 ColumnTransformer(transformers=[(&#x27;num&#x27;,\n",
       "                                                  Pipeline(steps=[(&#x27;standardscaler&#x27;,\n",
       "                                                                   StandardScaler())]),\n",
       "                                                  &lt;sklearn.compose._column_transformer.make_column_selector object at 0x000002A337F1AB00&gt;)])),\n",
       "                (&#x27;randomforestclassifier&#x27;,\n",
       "                 RandomForestClassifier(random_state=42))])</pre><b>In a Jupyter environment, please rerun this cell to show the HTML representation or trust the notebook. <br />On GitHub, the HTML representation is unable to render, please try loading this page with nbviewer.org.</b></div><div class=\"sk-container\" hidden><div class=\"sk-item sk-dashed-wrapped\"><div class=\"sk-label-container\"><div class=\"sk-label sk-toggleable\"><input class=\"sk-toggleable__control sk-hidden--visually\" id=\"sk-estimator-id-1\" type=\"checkbox\" ><label for=\"sk-estimator-id-1\" class=\"sk-toggleable__label sk-toggleable__label-arrow\">Pipeline</label><div class=\"sk-toggleable__content\"><pre>Pipeline(steps=[(&#x27;columntransformer&#x27;,\n",
       "                 ColumnTransformer(transformers=[(&#x27;num&#x27;,\n",
       "                                                  Pipeline(steps=[(&#x27;standardscaler&#x27;,\n",
       "                                                                   StandardScaler())]),\n",
       "                                                  &lt;sklearn.compose._column_transformer.make_column_selector object at 0x000002A337F1AB00&gt;)])),\n",
       "                (&#x27;randomforestclassifier&#x27;,\n",
       "                 RandomForestClassifier(random_state=42))])</pre></div></div></div><div class=\"sk-serial\"><div class=\"sk-item sk-dashed-wrapped\"><div class=\"sk-label-container\"><div class=\"sk-label sk-toggleable\"><input class=\"sk-toggleable__control sk-hidden--visually\" id=\"sk-estimator-id-2\" type=\"checkbox\" ><label for=\"sk-estimator-id-2\" class=\"sk-toggleable__label sk-toggleable__label-arrow\">columntransformer: ColumnTransformer</label><div class=\"sk-toggleable__content\"><pre>ColumnTransformer(transformers=[(&#x27;num&#x27;,\n",
       "                                 Pipeline(steps=[(&#x27;standardscaler&#x27;,\n",
       "                                                  StandardScaler())]),\n",
       "                                 &lt;sklearn.compose._column_transformer.make_column_selector object at 0x000002A337F1AB00&gt;)])</pre></div></div></div><div class=\"sk-parallel\"><div class=\"sk-parallel-item\"><div class=\"sk-item\"><div class=\"sk-label-container\"><div class=\"sk-label sk-toggleable\"><input class=\"sk-toggleable__control sk-hidden--visually\" id=\"sk-estimator-id-3\" type=\"checkbox\" ><label for=\"sk-estimator-id-3\" class=\"sk-toggleable__label sk-toggleable__label-arrow\">num</label><div class=\"sk-toggleable__content\"><pre>&lt;sklearn.compose._column_transformer.make_column_selector object at 0x000002A337F1AB00&gt;</pre></div></div></div><div class=\"sk-serial\"><div class=\"sk-item\"><div class=\"sk-serial\"><div class=\"sk-item\"><div class=\"sk-estimator sk-toggleable\"><input class=\"sk-toggleable__control sk-hidden--visually\" id=\"sk-estimator-id-4\" type=\"checkbox\" ><label for=\"sk-estimator-id-4\" class=\"sk-toggleable__label sk-toggleable__label-arrow\">StandardScaler</label><div class=\"sk-toggleable__content\"><pre>StandardScaler()</pre></div></div></div></div></div></div></div></div></div></div><div class=\"sk-item\"><div class=\"sk-estimator sk-toggleable\"><input class=\"sk-toggleable__control sk-hidden--visually\" id=\"sk-estimator-id-5\" type=\"checkbox\" ><label for=\"sk-estimator-id-5\" class=\"sk-toggleable__label sk-toggleable__label-arrow\">RandomForestClassifier</label><div class=\"sk-toggleable__content\"><pre>RandomForestClassifier(random_state=42)</pre></div></div></div></div></div></div></div>"
      ],
      "text/plain": [
       "Pipeline(steps=[('columntransformer',\n",
       "                 ColumnTransformer(transformers=[('num',\n",
       "                                                  Pipeline(steps=[('standardscaler',\n",
       "                                                                   StandardScaler())]),\n",
       "                                                  <sklearn.compose._column_transformer.make_column_selector object at 0x000002A337F1AB00>)])),\n",
       "                ('randomforestclassifier',\n",
       "                 RandomForestClassifier(random_state=42))])"
      ]
     },
     "execution_count": 28,
     "metadata": {},
     "output_type": "execute_result"
    }
   ],
   "source": [
    "forest_clf.fit(X_train, y_train)"
   ]
  },
  {
   "cell_type": "code",
   "execution_count": 29,
   "id": "169acfe1",
   "metadata": {},
   "outputs": [
    {
     "data": {
      "image/png": "[encoded data removed]",
      "text/plain": [
       "<Figure size 640x480 with 1 Axes>"
      ]
     },
     "metadata": {},
     "output_type": "display_data"
    },
    {
     "data": {
      "image/png": "[encoded data removed]",
      "text/plain": [
       "<Figure size 640x480 with 1 Axes>"
      ]
     },
     "metadata": {},
     "output_type": "display_data"
    }
   ],
   "source": [
    "forest_scores = evaluate_model_for_precision(\n",
    "    forest_clf, X_train, y_train, precision=0.94, \n",
    "    show_roc_curve=True, method='predict_proba'\n",
    ")"
   ]
  },
  {
   "cell_type": "code",
   "execution_count": 30,
   "id": "7c28c381",
   "metadata": {},
   "outputs": [
    {
     "data": {
      "text/plain": [
       "{'precision_score': 0.9410377358490566,\n",
       " 'recall_score': 0.9454976303317536,\n",
       " 'f1_score': 0.9432624113475178,\n",
       " 'auc_score': 0.9924233648266957}"
      ]
     },
     "execution_count": 30,
     "metadata": {},
     "output_type": "execute_result"
    }
   ],
   "source": [
    "forest_scores"
   ]
  },
  {
   "cell_type": "markdown",
   "id": "167dc6ae",
   "metadata": {},
   "source": [
    "#### Scores for RandomForestClassifier\n",
    "\n",
    "- precision: 0.9410377358490566\n",
    "- recall: 0.9454976303317536\n",
    "- f1_score: 0.9432624113475178\n",
    "\n",
    "-------\n",
    "\n",
    "- auc_score: 0.9924233648266957"
   ]
  },
  {
   "cell_type": "markdown",
   "id": "22aabaa0",
   "metadata": {},
   "source": [
    "#### Logistic Regression"
   ]
  },
  {
   "cell_type": "code",
   "execution_count": null,
   "id": "1e3da98c",
   "metadata": {},
   "outputs": [],
   "source": [
    "logistic_clf = make_pipeline(preprocessing, LogisticRegression(random_state=42))"
   ]
  },
  {
   "cell_type": "code",
   "execution_count": null,
   "id": "3f429d48",
   "metadata": {},
   "outputs": [],
   "source": [
    "logistic_scores = evaluate_model_for_precision(\n",
    "    logistic_clf, X_train, y_train, precision=0.94, \n",
    "    show_roc_curve=True, method='predict_proba'\n",
    ")"
   ]
  },
  {
   "cell_type": "code",
   "execution_count": null,
   "id": "4df19c16",
   "metadata": {},
   "outputs": [],
   "source": [
    "logistic_scores"
   ]
  },
  {
   "cell_type": "markdown",
   "id": "1ecf0418",
   "metadata": {},
   "source": [
    "#### Scores for Logistic Regression\n",
    "\n",
    "- precision: 0.9400958466453674\n",
    "- recall: 0.9296998420221169\n",
    "- f1_score: 0.9348689436060366\n",
    "\n",
    "-------\n",
    "\n",
    "- auc_score: 0.9731475929099619"
   ]
  },
  {
   "cell_type": "markdown",
   "id": "541e3515",
   "metadata": {},
   "source": [
    "#### Observations\n",
    "\n",
    "\n",
    "precision: 0.9410377358490566\n",
    "\n",
    "recall: 0.9454976303317536\n",
    "\n",
    "f1_score: 0.9432624113475178\n",
    "\n",
    "auc_score: 0.9924233648266957\n",
    "\n",
    "The RandomForestClassifier performing among all three with a recall of `0.94` and f1 score of `0.94` for `94%` precision, lets use this one as the model of choice and perform grid search on this to improve the **f1 score**"
   ]
  },
  {
   "cell_type": "markdown",
   "id": "b5ab40d5",
   "metadata": {},
   "source": [
    "### Hyperparameter Tuning"
   ]
  },
  {
   "cell_type": "code",
   "execution_count": 63,
   "id": "bcc23ccd",
   "metadata": {},
   "outputs": [],
   "source": [
    "param_grid=[\n",
    "    {\n",
    "        'randomforestclassifier__n_estimators': [20, 50, 100, 150, 200],\n",
    "        'randomforestclassifier__max_features': ['sqrt', 'log2', None], ## if None gets selected try int or float values\n",
    "        'randomforestclassifier__criterion': ['gini', 'entropy', 'log_loss'],\n",
    "        'randomforestclassifier__max_depth': [None, 10, 20],  ## can try with higher number than 20\n",
    "        'randomforestclassifier__class_weight': ['balanced', 'balanced_subsample', {0: 1, 1: 2}, {0: 1, 1: 5}]\n",
    "    }\n",
    "]"
   ]
  },
  {
   "cell_type": "markdown",
   "id": "5fbb292b",
   "metadata": {},
   "source": [
    "*Note:* Below lines are commented out because it takes a lot of time to run grid search"
   ]
  },
  {
   "cell_type": "code",
   "execution_count": 64,
   "id": "2c05b378",
   "metadata": {},
   "outputs": [],
   "source": [
    "# grid_search_response = perform_grid_search(forest_clf, param_grid, X_train, y_train)"
   ]
  },
  {
   "cell_type": "code",
   "execution_count": null,
   "id": "05c6849b",
   "metadata": {},
   "outputs": [],
   "source": [
    "# grid_search_response['best_params']"
   ]
  },
  {
   "cell_type": "code",
   "execution_count": null,
   "id": "1acff7bf",
   "metadata": {},
   "outputs": [],
   "source": [
    "# grid_search_response['result']"
   ]
  },
  {
   "cell_type": "markdown",
   "id": "65ab71b1",
   "metadata": {},
   "source": [
    "#### Observations\n",
    "\n",
    "for the best params found with grid search\n",
    "\n",
    "- class_weight = {0: 1, 1: 5}\n",
    "- criterion = 'entropy'\n",
    "- max_depth = 20\n",
    "- max_features = 'log2'\n",
    "- n_estimators = 200\n",
    "\n",
    "we are getting mean_test_score of **`0.95`** "
   ]
  },
  {
   "cell_type": "markdown",
   "id": "47b32d56",
   "metadata": {},
   "source": [
    "### Evaluate on test set"
   ]
  },
  {
   "cell_type": "code",
   "execution_count": 25,
   "id": "84e5b365",
   "metadata": {},
   "outputs": [],
   "source": [
    "final_forest_clf = make_pipeline(preprocessing, RandomForestClassifier(\n",
    "    random_state=42, \n",
    "    class_weight={0: 1, 1: 5}, \n",
    "    criterion='entropy', \n",
    "    max_depth=20, \n",
    "    max_features='log2', \n",
    "    n_estimators=200 \n",
    "))"
   ]
  },
  {
   "cell_type": "code",
   "execution_count": 26,
   "id": "45c8cd56",
   "metadata": {},
   "outputs": [
    {
     "data": {
      "text/html": [
       "<style>#sk-container-id-1 {color: black;background-color: white;}#sk-container-id-1 pre{padding: 0;}#sk-container-id-1 div.sk-toggleable {background-color: white;}#sk-container-id-1 label.sk-toggleable__label {cursor: pointer;display: block;width: 100%;margin-bottom: 0;padding: 0.3em;box-sizing: border-box;text-align: center;}#sk-container-id-1 label.sk-toggleable__label-arrow:before {content: \"▸\";float: left;margin-right: 0.25em;color: #696969;}#sk-container-id-1 label.sk-toggleable__label-arrow:hover:before {color: black;}#sk-container-id-1 div.sk-estimator:hover label.sk-toggleable__label-arrow:before {color: black;}#sk-container-id-1 div.sk-toggleable__content {max-height: 0;max-width: 0;overflow: hidden;text-align: left;background-color: #f0f8ff;}#sk-container-id-1 div.sk-toggleable__content pre {margin: 0.2em;color: black;border-radius: 0.25em;background-color: #f0f8ff;}#sk-container-id-1 input.sk-toggleable__control:checked~div.sk-toggleable__content {max-height: 200px;max-width: 100%;overflow: auto;}#sk-container-id-1 input.sk-toggleable__control:checked~label.sk-toggleable__label-arrow:before {content: \"▾\";}#sk-container-id-1 div.sk-estimator input.sk-toggleable__control:checked~label.sk-toggleable__label {background-color: #d4ebff;}#sk-container-id-1 div.sk-label input.sk-toggleable__control:checked~label.sk-toggleable__label {background-color: #d4ebff;}#sk-container-id-1 input.sk-hidden--visually {border: 0;clip: rect(1px 1px 1px 1px);clip: rect(1px, 1px, 1px, 1px);height: 1px;margin: -1px;overflow: hidden;padding: 0;position: absolute;width: 1px;}#sk-container-id-1 div.sk-estimator {font-family: monospace;background-color: #f0f8ff;border: 1px dotted black;border-radius: 0.25em;box-sizing: border-box;margin-bottom: 0.5em;}#sk-container-id-1 div.sk-estimator:hover {background-color: #d4ebff;}#sk-container-id-1 div.sk-parallel-item::after {content: \"\";width: 100%;border-bottom: 1px solid gray;flex-grow: 1;}#sk-container-id-1 div.sk-label:hover label.sk-toggleable__label {background-color: #d4ebff;}#sk-container-id-1 div.sk-serial::before {content: \"\";position: absolute;border-left: 1px solid gray;box-sizing: border-box;top: 0;bottom: 0;left: 50%;z-index: 0;}#sk-container-id-1 div.sk-serial {display: flex;flex-direction: column;align-items: center;background-color: white;padding-right: 0.2em;padding-left: 0.2em;position: relative;}#sk-container-id-1 div.sk-item {position: relative;z-index: 1;}#sk-container-id-1 div.sk-parallel {display: flex;align-items: stretch;justify-content: center;background-color: white;position: relative;}#sk-container-id-1 div.sk-item::before, #sk-container-id-1 div.sk-parallel-item::before {content: \"\";position: absolute;border-left: 1px solid gray;box-sizing: border-box;top: 0;bottom: 0;left: 50%;z-index: -1;}#sk-container-id-1 div.sk-parallel-item {display: flex;flex-direction: column;z-index: 1;position: relative;background-color: white;}#sk-container-id-1 div.sk-parallel-item:first-child::after {align-self: flex-end;width: 50%;}#sk-container-id-1 div.sk-parallel-item:last-child::after {align-self: flex-start;width: 50%;}#sk-container-id-1 div.sk-parallel-item:only-child::after {width: 0;}#sk-container-id-1 div.sk-dashed-wrapped {border: 1px dashed gray;margin: 0 0.4em 0.5em 0.4em;box-sizing: border-box;padding-bottom: 0.4em;background-color: white;}#sk-container-id-1 div.sk-label label {font-family: monospace;font-weight: bold;display: inline-block;line-height: 1.2em;}#sk-container-id-1 div.sk-label-container {text-align: center;}#sk-container-id-1 div.sk-container {/* jupyter's `normalize.less` sets `[hidden] { display: none; }` but bootstrap.min.css set `[hidden] { display: none !important; }` so we also need the `!important` here to be able to override the default hidden behavior on the sphinx rendered scikit-learn.org. See: https://github.com/scikit-learn/scikit-learn/issues/21755 */display: inline-block !important;position: relative;}#sk-container-id-1 div.sk-text-repr-fallback {display: none;}</style><div id=\"sk-container-id-1\" class=\"sk-top-container\"><div class=\"sk-text-repr-fallback\"><pre>Pipeline(steps=[(&#x27;columntransformer&#x27;,\n",
       "                 ColumnTransformer(transformers=[(&#x27;num&#x27;,\n",
       "                                                  Pipeline(steps=[(&#x27;standardscaler&#x27;,\n",
       "                                                                   StandardScaler())]),\n",
       "                                                  &lt;sklearn.compose._column_transformer.make_column_selector object at 0x000002B31AFCAEF0&gt;)])),\n",
       "                (&#x27;randomforestclassifier&#x27;,\n",
       "                 RandomForestClassifier(class_weight={0: 1, 1: 5},\n",
       "                                        criterion=&#x27;entropy&#x27;, max_depth=20,\n",
       "                                        max_features=&#x27;log2&#x27;, n_estimators=200,\n",
       "                                        random_state=42))])</pre><b>In a Jupyter environment, please rerun this cell to show the HTML representation or trust the notebook. <br />On GitHub, the HTML representation is unable to render, please try loading this page with nbviewer.org.</b></div><div class=\"sk-container\" hidden><div class=\"sk-item sk-dashed-wrapped\"><div class=\"sk-label-container\"><div class=\"sk-label sk-toggleable\"><input class=\"sk-toggleable__control sk-hidden--visually\" id=\"sk-estimator-id-1\" type=\"checkbox\" ><label for=\"sk-estimator-id-1\" class=\"sk-toggleable__label sk-toggleable__label-arrow\">Pipeline</label><div class=\"sk-toggleable__content\"><pre>Pipeline(steps=[(&#x27;columntransformer&#x27;,\n",
       "                 ColumnTransformer(transformers=[(&#x27;num&#x27;,\n",
       "                                                  Pipeline(steps=[(&#x27;standardscaler&#x27;,\n",
       "                                                                   StandardScaler())]),\n",
       "                                                  &lt;sklearn.compose._column_transformer.make_column_selector object at 0x000002B31AFCAEF0&gt;)])),\n",
       "                (&#x27;randomforestclassifier&#x27;,\n",
       "                 RandomForestClassifier(class_weight={0: 1, 1: 5},\n",
       "                                        criterion=&#x27;entropy&#x27;, max_depth=20,\n",
       "                                        max_features=&#x27;log2&#x27;, n_estimators=200,\n",
       "                                        random_state=42))])</pre></div></div></div><div class=\"sk-serial\"><div class=\"sk-item sk-dashed-wrapped\"><div class=\"sk-label-container\"><div class=\"sk-label sk-toggleable\"><input class=\"sk-toggleable__control sk-hidden--visually\" id=\"sk-estimator-id-2\" type=\"checkbox\" ><label for=\"sk-estimator-id-2\" class=\"sk-toggleable__label sk-toggleable__label-arrow\">columntransformer: ColumnTransformer</label><div class=\"sk-toggleable__content\"><pre>ColumnTransformer(transformers=[(&#x27;num&#x27;,\n",
       "                                 Pipeline(steps=[(&#x27;standardscaler&#x27;,\n",
       "                                                  StandardScaler())]),\n",
       "                                 &lt;sklearn.compose._column_transformer.make_column_selector object at 0x000002B31AFCAEF0&gt;)])</pre></div></div></div><div class=\"sk-parallel\"><div class=\"sk-parallel-item\"><div class=\"sk-item\"><div class=\"sk-label-container\"><div class=\"sk-label sk-toggleable\"><input class=\"sk-toggleable__control sk-hidden--visually\" id=\"sk-estimator-id-3\" type=\"checkbox\" ><label for=\"sk-estimator-id-3\" class=\"sk-toggleable__label sk-toggleable__label-arrow\">num</label><div class=\"sk-toggleable__content\"><pre>&lt;sklearn.compose._column_transformer.make_column_selector object at 0x000002B31AFCAEF0&gt;</pre></div></div></div><div class=\"sk-serial\"><div class=\"sk-item\"><div class=\"sk-serial\"><div class=\"sk-item\"><div class=\"sk-estimator sk-toggleable\"><input class=\"sk-toggleable__control sk-hidden--visually\" id=\"sk-estimator-id-4\" type=\"checkbox\" ><label for=\"sk-estimator-id-4\" class=\"sk-toggleable__label sk-toggleable__label-arrow\">StandardScaler</label><div class=\"sk-toggleable__content\"><pre>StandardScaler()</pre></div></div></div></div></div></div></div></div></div></div><div class=\"sk-item\"><div class=\"sk-estimator sk-toggleable\"><input class=\"sk-toggleable__control sk-hidden--visually\" id=\"sk-estimator-id-5\" type=\"checkbox\" ><label for=\"sk-estimator-id-5\" class=\"sk-toggleable__label sk-toggleable__label-arrow\">RandomForestClassifier</label><div class=\"sk-toggleable__content\"><pre>RandomForestClassifier(class_weight={0: 1, 1: 5}, criterion=&#x27;entropy&#x27;,\n",
       "                       max_depth=20, max_features=&#x27;log2&#x27;, n_estimators=200,\n",
       "                       random_state=42)</pre></div></div></div></div></div></div></div>"
      ],
      "text/plain": [
       "Pipeline(steps=[('columntransformer',\n",
       "                 ColumnTransformer(transformers=[('num',\n",
       "                                                  Pipeline(steps=[('standardscaler',\n",
       "                                                                   StandardScaler())]),\n",
       "                                                  <sklearn.compose._column_transformer.make_column_selector object at 0x000002B31AFCAEF0>)])),\n",
       "                ('randomforestclassifier',\n",
       "                 RandomForestClassifier(class_weight={0: 1, 1: 5},\n",
       "                                        criterion='entropy', max_depth=20,\n",
       "                                        max_features='log2', n_estimators=200,\n",
       "                                        random_state=42))])"
      ]
     },
     "execution_count": 26,
     "metadata": {},
     "output_type": "execute_result"
    }
   ],
   "source": [
    "final_forest_clf.fit(X_train, y_train)"
   ]
  },
  {
   "cell_type": "code",
   "execution_count": 27,
   "id": "8fe0927b",
   "metadata": {},
   "outputs": [],
   "source": [
    "test_set_predictions = final_forest_clf.predict(X_test) ## directly predicting on test set"
   ]
  },
  {
   "cell_type": "code",
   "execution_count": 28,
   "id": "d90f385e",
   "metadata": {},
   "outputs": [
    {
     "data": {
      "text/plain": [
       "0.9482895783611774"
      ]
     },
     "execution_count": 28,
     "metadata": {},
     "output_type": "execute_result"
    }
   ],
   "source": [
    "f1_score(y_test, test_set_predictions)"
   ]
  },
  {
   "cell_type": "code",
   "execution_count": 29,
   "id": "2d3c8a10",
   "metadata": {},
   "outputs": [
    {
     "data": {
      "text/plain": [
       "0.9415481832543444"
      ]
     },
     "execution_count": 29,
     "metadata": {},
     "output_type": "execute_result"
    }
   ],
   "source": [
    "precision_score(y_test, test_set_predictions)"
   ]
  },
  {
   "cell_type": "code",
   "execution_count": 30,
   "id": "b8d5ae2c",
   "metadata": {},
   "outputs": [
    {
     "data": {
      "text/plain": [
       "0.9551282051282052"
      ]
     },
     "execution_count": 30,
     "metadata": {},
     "output_type": "execute_result"
    }
   ],
   "source": [
    "recall_score(y_test, test_set_predictions)"
   ]
  },
  {
   "cell_type": "markdown",
   "id": "dc83972d",
   "metadata": {},
   "source": [
    "With our current implementation we have achieved a \n",
    "\n",
    "##### f1_score of around **`0.95`** \n",
    "##### with `0.94` precision \n",
    "##### and `0.96` recall score on test set"
   ]
  },
  {
   "cell_type": "markdown",
   "id": "c447090a",
   "metadata": {},
   "source": [
    "### Predict a single email"
   ]
  },
  {
   "cell_type": "code",
   "execution_count": 78,
   "id": "ce0ed5e2",
   "metadata": {},
   "outputs": [],
   "source": [
    "pred_test_email = \"\"\"\n",
    "\n",
    "  \n",
    " \n",
    " \n",
    " Bitte beachten Sie die Angebote unserer Werbepart=\n",
    "ner.=\n",
    "Diese erm=Fglichen den kostenfreien Betrieb des FaxMail-Service.=\n",
    "Vielen Dank.=\n",
    "\n",
    "  =\n",
    " =\n",
    "    =\n",
    " =\n",
    " =\n",
    "Der neue Cyberport-Katalog ist da!=\n",
    "&nbsp;=\n",
    "Reinschauen ist jetzt auch offline m=Fglich, mit de=\n",
    "m druckfrischen Cyberport-Katalog.\n",
    "St=Fbern Sie in unserem Angebot, wann und wo Sie wollen. Entdecken Sie =\n",
    "auf  Seiten\n",
    "sechs interessante Einkaufswelten, randvoll mit topaktuellen Highlights =\n",
    "rund um den \n",
    "Computer, Telekommunikation und Multimedia - nat=FCrlich zu absoluten Ha=\n",
    "mmerpreisen.=\n",
    "Bitte registrieren Sie sich hier =\n",
    "Und hier unsere Shops im =DCberblick: =\n",
    "  =\n",
    "   =\n",
    "\n",
    "Mac-Shop = Cyberdesign f=FCr jeden Tag\n",
    "&nbsp;\n",
    "Ein Paradies f=FCr Apple-Fans! Ob iMac, iBook \n",
    "oder PowerMac: Hier finden Sie die \n",
    "aktuellsten Modelle = und dazu jede Menge \n",
    "Software und Peripherie = vom Cinema \n",
    "Display =FCber Foto-Drucker bis zum neuen \n",
    "iPod! =\n",
    "  \n",
    "\n",
    "PC-Shop = Power satt f=\n",
    "=FCr mehr Souver=Enit=Et\n",
    "\n",
    "Nat=FCrlich kommen Sie bei uns auch als PC-\n",
    "User voll auf Ihre Kosten: Wir bieten Ihnen \n",
    "leistungsstarke PC-Komplettsysteme f=FCr \n",
    "Home- und Business-Anwendungen, Super-\n",
    "Zusatzkomponenten f=FCr Gamer und \n",
    "Multimedia-Freaks sowie Top-Endger=Ete und \n",
    "Zubeh=Fr vom Foto-Scanner bis zum TFT-Display!=\n",
    " =\n",
    " \n",
    "\n",
    "Mobile-Shop = neueste Technik f=FCr \n",
    "grenzenlose Mobilit=Et =\n",
    "Willkommen in der mobilen Zukunft! Ob \n",
    "Notebook oder PDA, Handy oder \n",
    "Navigationssystem: Bei uns finden Freunde \n",
    "des mobilen Lebens f=FCr jeden Zweck das \n",
    "optimale Angebot = f=FCr mehr Freiheit unterwegs!=\n",
    "=\n",
    " =\n",
    " \n",
    "\n",
    "Network-Shop = Effizienz von Profis f=FCr =\n",
    "\n",
    "Profis=\n",
    "Die ganze Welt von LAN, Switches, Router &amp; \n",
    "Co. Hier gibt=s ma=DFgeschneiderte Netzwerk-\n",
    "L=Fsungen f=FCr den privaten wie professionellen \n",
    "Bedarf = von der einfachen Netzwerkkarte bis \n",
    "zum Wireless LAN mit Internetzugang, \n",
    "Printserver und integrierter Firewall f=FCr \n",
    "maximale Sicherheit!=\n",
    "  \n",
    "\n",
    "Video/Audio-Shop = alle F=\n",
    "reiheit f=FCr Ihre \n",
    "W=FCnsche=\n",
    "Ob Digital-Foto und -Video, MP, DVD oder \n",
    "Breitband-TV: Wir pr=Esentieren Ihnen die \n",
    "absoluten High-Tech-Hits von SONY, Denon, \n",
    "JVC, Panasonic, Toshiba und vielen anderen \n",
    "Top-Marken. Selbstverst=Endlich zu \n",
    "atemberaubend g=FCnstigen Preisen!=\n",
    " =\n",
    " \n",
    "\n",
    "Software-Shop = f=FCr mehr Vielfalt und \n",
    "mehr Innovation =\n",
    "Ob Betriebssystem oder Office-Suite, DTP \n",
    "oder Multimedia, Video-Bearbeitung oder \n",
    "aktuelle Games: Wir bieten Ihnen die perfekte \n",
    "L=Fsung f=FCr jede denkbare PC-Anwendung. \n",
    "Nat=FCrlich inklusive Update- und \n",
    "Schulversionen sowie top-aktuellen \n",
    "Handb=FCchern f=FCr Einsteiger und Profis!\n",
    "  =\n",
    " \n",
    "\n",
    "Welche DVD-Formate gibt es? Wie funktioniert eine Wi=\n",
    "reless LAN-Verbindung? Diese und \n",
    "viele weitere Fragen werden gekl=Ert. Wenn Sie noch keinen Katalog besi=\n",
    "tzen, dann bestellen \n",
    "Sie schnell und nehmen Sie sich etwas Zeit f=FCr die neuesten Produkte d=\n",
    "er Technik.=\n",
    "F=FCr Ihre Kataloganforderung erhalten Sie von uns einmalig\n",
    "einen Warengutschein in H=Fhe von  EUR.=\n",
    "\n",
    "Bitte registrieren Sie sich hier: =\n",
    "&nbsp;=\n",
    "M=Fchten Sie diese Mail weiterleiten dann klicken Sie hier=\n",
    "=\n",
    "&nbsp;=\n",
    "&nbsp;Wenn Sie den Newsletter nicht mehr erhalten wollen, m=FCsse=\n",
    "n Sie sich \n",
    "komplett vom FaxMail Service abmelden. Gehen Sie hierzu auf \n",
    " Im Bereich 'Setup' k=Fnnen Sie sich =FCber \n",
    "den Knopf 'Daten l=Fschen' abmelden. \n",
    "\n",
    "Mit freundlichen Gr=FC=DFen\n",
    "\n",
    "Ihr FM Team\n",
    "Dies ist ein Service der XPEDITE Systems GmbH verschickt =FCber das\n",
    "messageREACH-System.\n",
    "Weitere Informationen finden Sie unter \n",
    "\n",
    "\n",
    "=\n",
    "\n",
    "\n",
    "\n",
    "\n",
    "\"\"\""
   ]
  },
  {
   "cell_type": "code",
   "execution_count": 79,
   "id": "7ac981c2",
   "metadata": {},
   "outputs": [],
   "source": [
    "prediction = data_prep_pipeline.predict(clf=final_forest_clf, email_content=pred_test_email_content)"
   ]
  },
  {
   "cell_type": "code",
   "execution_count": 80,
   "id": "98d21f15",
   "metadata": {},
   "outputs": [
    {
     "data": {
      "text/plain": [
       "False"
      ]
     },
     "execution_count": 80,
     "metadata": {},
     "output_type": "execute_result"
    }
   ],
   "source": [
    "prediction"
   ]
  },
  {
   "cell_type": "code",
   "execution_count": null,
   "id": "7ddbde53",
   "metadata": {},
   "outputs": [],
   "source": []
  }
 ],
 "metadata": {
  "kernelspec": {
   "display_name": "Python 3 (ipykernel)",
   "language": "python",
   "name": "python3"
  },
  "language_info": {
   "codemirror_mode": {
    "name": "ipython",
    "version": 3
   },
   "file_extension": ".py",
   "mimetype": "text/x-python",
   "name": "python",
   "nbconvert_exporter": "python",
   "pygments_lexer": "ipython3",
   "version": "3.10.9"
  }
 },
 "nbformat": 4,
 "nbformat_minor": 5
}
